{
 "metadata": {
  "name": "",
  "signature": "sha256:97f968dcc3b64dd6408250e49d5e88d52d9ee3e2f0adae5271b8d09f6138d7d6"
 },
 "nbformat": 3,
 "nbformat_minor": 0,
 "worksheets": [
  {
   "cells": [
    {
     "cell_type": "heading",
     "level": 1,
     "metadata": {},
     "source": [
      "Analysis of the dataset Countries"
     ]
    },
    {
     "cell_type": "code",
     "collapsed": false,
     "input": [
      "import matplotlib.pyplot as plt\n",
      "import matplotlib\n",
      "matplotlib.style.use('ggplot')\n",
      "\n",
      "import numpy as np\n",
      "import pandas as pd\n",
      "\n",
      "import csv\n",
      "import os\n",
      "\n",
      "pd.set_option('display.mpl_style', 'default') # Make the graphs a bit prettier\n",
      "figsize(15, 5)"
     ],
     "language": "python",
     "metadata": {},
     "outputs": [],
     "prompt_number": 2
    },
    {
     "cell_type": "code",
     "collapsed": false,
     "input": [
      "os.chdir('/Users/duccioa/CLOUD/C07_UCL_SmartCities/QuantitativeMethods/qm_coursewrk1')"
     ],
     "language": "python",
     "metadata": {},
     "outputs": [],
     "prompt_number": 3
    },
    {
     "cell_type": "heading",
     "level": 2,
     "metadata": {},
     "source": [
      "Introduction"
     ]
    },
    {
     "cell_type": "markdown",
     "metadata": {},
     "source": [
      "The present assesment aims at analysying the dataset Data_for_Coursework_1_Countries.csv for the course Quantitative Methods at UCL.  \n",
      "The dataset contains information about 190 countries, such as population, GDP (Gross Domesti Product), food and fuel imports. We want understand, based on this dataset, whether GDP and Population are good predictors of food imports. \n",
      "From the \n"
     ]
    },
    {
     "cell_type": "heading",
     "level": 2,
     "metadata": {},
     "source": [
      "Analysis"
     ]
    },
    {
     "cell_type": "markdown",
     "metadata": {},
     "source": [
      "The dataset contains information about 190 countries, such as population, GDP (Gross Domesti Product), food and fuel imports."
     ]
    },
    {
     "cell_type": "code",
     "collapsed": false,
     "input": [
      "countries = pd.read_csv('countries.csv', sep = ',', encoding = 'latin1')\n",
      "countries.columns = ['X', 'Year', 'CountryCode', 'CountryName', 'Population', 'GDP', 'FoodImports', 'FuelImports']\n",
      "countries[:3]"
     ],
     "language": "python",
     "metadata": {},
     "outputs": [
      {
       "html": [
        "<div style=\"max-width:1500px;overflow:auto;\">\n",
        "<table border=\"1\" class=\"dataframe\">\n",
        "  <thead>\n",
        "    <tr style=\"text-align: right;\">\n",
        "      <th></th>\n",
        "      <th>X</th>\n",
        "      <th>Year</th>\n",
        "      <th>CountryCode</th>\n",
        "      <th>CountryName</th>\n",
        "      <th>Population</th>\n",
        "      <th>GDP</th>\n",
        "      <th>FoodImports</th>\n",
        "      <th>FuelImports</th>\n",
        "    </tr>\n",
        "  </thead>\n",
        "  <tbody>\n",
        "    <tr>\n",
        "      <th>0</th>\n",
        "      <td>1</td>\n",
        "      <td>2005</td>\n",
        "      <td>ABW</td>\n",
        "      <td>Aruba</td>\n",
        "      <td>100031</td>\n",
        "      <td>1.160240e+12</td>\n",
        "      <td>97166150</td>\n",
        "      <td>32335285</td>\n",
        "    </tr>\n",
        "    <tr>\n",
        "      <th>1</th>\n",
        "      <td>2</td>\n",
        "      <td>2005</td>\n",
        "      <td>AFG</td>\n",
        "      <td>Afghanistan</td>\n",
        "      <td>24860855</td>\n",
        "      <td>6.275076e+09</td>\n",
        "      <td>528341972</td>\n",
        "      <td>461521897</td>\n",
        "    </tr>\n",
        "    <tr>\n",
        "      <th>2</th>\n",
        "      <td>3</td>\n",
        "      <td>2005</td>\n",
        "      <td>AGO</td>\n",
        "      <td>Angola</td>\n",
        "      <td>16544376</td>\n",
        "      <td>2.823370e+10</td>\n",
        "      <td>1075607744</td>\n",
        "      <td>48218538</td>\n",
        "    </tr>\n",
        "  </tbody>\n",
        "</table>\n",
        "</div>"
       ],
       "metadata": {},
       "output_type": "pyout",
       "prompt_number": 4,
       "text": [
        "   X  Year CountryCode  CountryName  Population           GDP  FoodImports  \\\n",
        "0  1  2005         ABW        Aruba      100031  1.160240e+12     97166150   \n",
        "1  2  2005         AFG  Afghanistan    24860855  6.275076e+09    528341972   \n",
        "2  3  2005         AGO       Angola    16544376  2.823370e+10   1075607744   \n",
        "\n",
        "   FuelImports  \n",
        "0     32335285  \n",
        "1    461521897  \n",
        "2     48218538  "
       ]
      }
     ],
     "prompt_number": 4
    },
    {
     "cell_type": "markdown",
     "metadata": {},
     "source": [
      "The following two figures show the scatter plots of food imports for population or GDP. They both show sign of correlation but the correlation of FoodImports with GDP is much stronger than with Population. The first graph presents with two important outliers, China and India"
     ]
    },
    {
     "cell_type": "code",
     "collapsed": false,
     "input": [
      "#countries.plot(x = 'Population', y = 'FoodImports', kind = 'scatter')\n",
      "labels = ['CHN', 'IND', 'USA']\n",
      "coords = countries[countries['CountryCode'] == 'CHN']\n",
      "coords = coords.append(countries[countries['CountryCode'] == 'IND'])\n",
      "coords = coords.append(countries[countries['CountryCode'] == 'USA'])\n"
     ],
     "language": "python",
     "metadata": {},
     "outputs": [
      {
       "output_type": "stream",
       "stream": "stdout",
       "text": [
        "       X  Year CountryCode               CountryName  Population  \\\n",
        "34    35  2005         CHN                     China  1318176835   \n",
        "82    83  2005         IND                     India  1127143548   \n",
        "179  180  2005         USA  United States of America   298165797   \n",
        "\n",
        "              GDP  FoodImports  FuelImports  Population_log  FoodImports_log  \\\n",
        "34   2.256900e+12  13831495804  18135679064       20.999515        23.350214   \n",
        "82   8.342170e+11   4387970226   9583940450       20.842952        22.202133   \n",
        "179  1.264710e+13  55436597766  41165734499       19.513160        24.738506   \n",
        "\n",
        "       GDP_log  \n",
        "34   28.445013  \n",
        "82   27.449759  \n",
        "179  30.168449  \n"
       ]
      }
     ],
     "prompt_number": 40
    },
    {
     "cell_type": "code",
     "collapsed": false,
     "input": [
      "countries.plot(x = 'GDP', y = 'FoodImports', kind = 'scatter')\n",
      "ax.annotate()\n",
      "print 'GDP/FoodImport correlation: ' + str(round(countries['GDP'].corr(countries['FoodImports'], method='spearman'), 2))\n"
     ],
     "language": "python",
     "metadata": {},
     "outputs": [
      {
       "output_type": "stream",
       "stream": "stdout",
       "text": [
        "GDP/FoodImport correlation: 0.92\n"
       ]
      },
      {
       "metadata": {},
       "output_type": "display_data",
       "png": "[encoded data removed]",
       "text": [
        "<matplotlib.figure.Figure at 0x11216d0d0>"
       ]
      }
     ],
     "prompt_number": 26
    },
    {
     "cell_type": "markdown",
     "metadata": {},
     "source": []
    },
    {
     "cell_type": "code",
     "collapsed": false,
     "input": [
      "countries['Population_log'] = log(countries['Population'])\n",
      "countries['FoodImports_log'] = log(countries['FoodImports'])\n",
      "countries['GDP_log'] = log(countries['GDP'])\n",
      "countries.plot(x = 'Population_log', y = 'FoodImports_log', kind = 'scatter')\n",
      "countries.plot(x = 'GDP_log', y = 'FoodImports_log', kind = 'scatter')"
     ],
     "language": "python",
     "metadata": {},
     "outputs": [
      {
       "metadata": {},
       "output_type": "pyout",
       "prompt_number": 6,
       "text": [
        "<matplotlib.axes._subplots.AxesSubplot at 0x10ef53610>"
       ]
      },
      {
       "metadata": {},
       "output_type": "display_data",
       "png": "[encoded data removed]",
       "text": [
        "<matplotlib.figure.Figure at 0x10d3c9cd0>"
       ]
      },
      {
       "metadata": {},
       "output_type": "display_data",
       "png": "[encoded data removed]",
       "text": [
        "<matplotlib.figure.Figure at 0x10d444090>"
       ]
      }
     ],
     "prompt_number": 6
    },
    {
     "cell_type": "code",
     "collapsed": false,
     "input": [
      "corr_pop_food = \n",
      "print corr_pop_food"
     ],
     "language": "python",
     "metadata": {},
     "outputs": [
      {
       "output_type": "stream",
       "stream": "stdout",
       "text": [
        "0.64394056695\n"
       ]
      }
     ],
     "prompt_number": 14
    },
    {
     "cell_type": "code",
     "collapsed": false,
     "input": [],
     "language": "python",
     "metadata": {},
     "outputs": []
    }
   ],
   "metadata": {}
  }
 ]
}