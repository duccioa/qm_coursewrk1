{
 "metadata": {
  "name": "",
  "signature": "sha256:8aed7f78e4f931f056e6e52480975564912b9f5ebec52b20ecba61400a2a7d8a"
 },
 "nbformat": 3,
 "nbformat_minor": 0,
 "worksheets": [
  {
   "cells": [
    {
     "cell_type": "code",
     "collapsed": false,
     "input": [
      "import matplotlib.pyplot as plt\n",
      "import matplotlib\n",
      "matplotlib.style.use('ggplot')\n",
      "\n",
      "\n",
      "import patsy\n",
      "import pandas as pd\n",
      "#import statsmodels as sm\n",
      "#import statsmodels.api as sm\n",
      "import numpy as np\n",
      "import statsmodels.api as sm\n",
      "from statsmodels.formula.api import ols\n",
      "import csv\n",
      "import os\n",
      "\n",
      "pd.set_option('display.mpl_style', 'default') # Make the graphs a bit prettier\n",
      "figsize(15, 5)"
     ],
     "language": "python",
     "metadata": {},
     "outputs": [],
     "prompt_number": 4
    },
    {
     "cell_type": "code",
     "collapsed": false,
     "input": [
      "os.chdir('/Users/duccioa/CLOUD/C07_UCL_SmartCities/QuantitativeMethods/qm_coursewrk1')"
     ],
     "language": "python",
     "metadata": {},
     "outputs": [],
     "prompt_number": 5
    },
    {
     "cell_type": "heading",
     "level": 1,
     "metadata": {},
     "source": [
      "Introduction"
     ]
    },
    {
     "cell_type": "markdown",
     "metadata": {},
     "source": [
      "Based on the dataset Data_for_Coursework_1_Countries.csv and within the context of the course Quantitative Methods at UCL"
     ]
    },
    {
     "cell_type": "heading",
     "level": 1,
     "metadata": {},
     "source": [
      "Analysis"
     ]
    },
    {
     "cell_type": "code",
     "collapsed": false,
     "input": [
      "countries = pd.read_csv('countries.csv', sep = ',', encoding = 'latin1')\n",
      "countries.columns = ['X', 'Year', 'CountryCode', 'CountryName', 'Population', 'GDP', 'FoodImports', 'FuelImports']\n",
      "l = len(countries['CountryCode'])"
     ],
     "language": "python",
     "metadata": {},
     "outputs": [],
     "prompt_number": 6
    },
    {
     "cell_type": "markdown",
     "metadata": {},
     "source": [
      "In this project I aim at investigating the determinant of food import. The available dataset contains data for 190 countries about Gross Domestic Product (GDP), food import and population for the year 2005."
     ]
    },
    {
     "cell_type": "code",
     "collapsed": false,
     "input": [
      "print countries"
     ],
     "language": "python",
     "metadata": {},
     "outputs": []
    },
    {
     "cell_type": "code",
     "collapsed": false,
     "input": [
      "countries['Population_log'] = log(countries['Population'])\n",
      "countries['FoodImports_log'] = log(countries['FoodImports'])\n",
      "countries['GDP_log'] = log(countries['GDP'])\n",
      "countries['GDP_pc'] = countries['GDP']/countries['Population']\n",
      "countries['FoodImports_pc'] = countries['FoodImports']/countries['Population']\n",
      "countries['GDP_pc_log'] = log(countries['GDP_pc'])\n",
      "countries['FoodImports_pc_log'] = log(countries['FoodImports_pc'])"
     ],
     "language": "python",
     "metadata": {},
     "outputs": [],
     "prompt_number": 37
    },
    {
     "cell_type": "markdown",
     "metadata": {},
     "source": [
      "Both plots present patterns of correlation with three big outliers: USA, India and China which have respectivly very high GDP, population, GDP and population. GDP have a very strong correlation (0.92) with food import and the ln-ln plot strongly suggests a power law relation with values very concentrated on the regression line (the log-log plot with population shows higher variation than with GDP). \n"
     ]
    },
    {
     "cell_type": "code",
     "collapsed": false,
     "input": [
      "coords = countries[countries['CountryCode'] == 'CHN']\n",
      "coords = coords.append(countries[countries['CountryCode'] == 'IND'])\n",
      "coords = coords.append(countries[countries['CountryCode'] == 'USA'])"
     ],
     "language": "python",
     "metadata": {},
     "outputs": [],
     "prompt_number": 7
    },
    {
     "cell_type": "code",
     "collapsed": false,
     "input": [
      "fig, ax = plt.subplots()\n",
      "ax.scatter(countries['Population'], countries['FoodImports'])\n",
      "ax.annotate(coords['CountryCode'][179], xy = (coords['Population'][179], coords['FoodImports'][179]))\n",
      "ax.annotate(coords['CountryCode'][34], xy = (coords['Population'][34], coords['FoodImports'][34]))\n",
      "ax.annotate(coords['CountryCode'][82], xy = (coords['Population'][82], coords['FoodImports'][82]))\n",
      "ax.annotate('Correlation: ' + str(round(countries['Population'].corr(countries['FoodImports'], method='spearman'), 2)), xy = (coords['Population'][179]*1.3, coords['FoodImports'][179]*0.6))"
     ],
     "language": "python",
     "metadata": {},
     "outputs": [
      {
       "metadata": {},
       "output_type": "pyout",
       "prompt_number": 12,
       "text": [
        "<matplotlib.text.Annotation at 0x11180b690>"
       ]
      },
      {
       "metadata": {},
       "output_type": "display_data",
       "png": "[encoded data removed]",
       "text": [
        "<matplotlib.figure.Figure at 0x11163d4d0>"
       ]
      }
     ],
     "prompt_number": 12
    },
    {
     "cell_type": "code",
     "collapsed": false,
     "input": [],
     "language": "python",
     "metadata": {},
     "outputs": []
    },
    {
     "cell_type": "code",
     "collapsed": false,
     "input": [
      "mod = ols(formula='FoodImports_pc_log ~ GDP_pc_log + Population_log', data=countries)\n",
      "res = mod.fit()\n",
      "print res.summary()"
     ],
     "language": "python",
     "metadata": {},
     "outputs": [
      {
       "output_type": "stream",
       "stream": "stdout",
       "text": [
        "                            OLS Regression Results                            \n",
        "==============================================================================\n",
        "Dep. Variable:     FoodImports_pc_log   R-squared:                       0.807\n",
        "Model:                            OLS   Adj. R-squared:                  0.805\n",
        "Method:                 Least Squares   F-statistic:                     390.9\n",
        "Date:                Fri, 30 Oct 2015   Prob (F-statistic):           1.60e-67\n",
        "Time:                        11:25:13   Log-Likelihood:                -207.91\n",
        "No. Observations:                 190   AIC:                             421.8\n",
        "Df Residuals:                     187   BIC:                             431.6\n",
        "Df Model:                           2                                         \n",
        "Covariance Type:            nonrobust                                         \n",
        "==================================================================================\n",
        "                     coef    std err          t      P>|t|      [95.0% Conf. Int.]\n",
        "----------------------------------------------------------------------------------\n",
        "Intercept          3.8607      0.518      7.456      0.000         2.839     4.882\n",
        "GDP_pc_log         0.6740      0.032     21.300      0.000         0.612     0.736\n",
        "Population_log    -0.2998      0.025    -12.010      0.000        -0.349    -0.251\n",
        "==============================================================================\n",
        "Omnibus:                       92.805   Durbin-Watson:                   1.841\n",
        "Prob(Omnibus):                  0.000   Jarque-Bera (JB):              534.208\n",
        "Skew:                          -1.778   Prob(JB):                    9.96e-117\n",
        "Kurtosis:                      10.405   Cond. No.                         172.\n",
        "==============================================================================\n",
        "\n",
        "Warnings:\n",
        "[1] Standard Errors assume that the covariance matrix of the errors is correctly specified.\n"
       ]
      }
     ],
     "prompt_number": 38
    },
    {
     "cell_type": "code",
     "collapsed": false,
     "input": [],
     "language": "python",
     "metadata": {},
     "outputs": []
    }
   ],
   "metadata": {}
  }
 ]
}