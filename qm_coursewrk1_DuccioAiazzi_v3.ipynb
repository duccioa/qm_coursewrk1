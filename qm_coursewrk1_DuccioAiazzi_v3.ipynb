{
 "metadata": {
  "name": "",
  "signature": "sha256:a04bb183040811538c896ee1e760cde63898fe4b75196fe65537dacd47178cbc"
 },
 "nbformat": 3,
 "nbformat_minor": 0,
 "worksheets": [
  {
   "cells": [
    {
     "cell_type": "heading",
     "level": 1,
     "metadata": {},
     "source": [
      "The effect of Gross Domestic Product on food imports"
     ]
    },
    {
     "cell_type": "code",
     "collapsed": false,
     "input": [
      "#Load packages\n",
      "import matplotlib.pyplot as plt\n",
      "import matplotlib\n",
      "matplotlib.style.use('ggplot')\n",
      "import patsy\n",
      "import pandas as pd\n",
      "#import statsmodels as sm\n",
      "#import statsmodels.api as sm\n",
      "import numpy as np\n",
      "import statsmodels.api as sm\n",
      "from statsmodels.formula.api import ols\n",
      "import csv\n",
      "import os\n",
      "from matplotlib.gridspec import GridSpec\n",
      "#Set defaults for graphs\n",
      "pd.set_option('display.mpl_style', 'default') # Make the graphs a bit prettier\n",
      "figsize(16, 8)\n"
     ],
     "language": "python",
     "metadata": {},
     "outputs": [],
     "prompt_number": 49
    },
    {
     "cell_type": "code",
     "collapsed": false,
     "input": [
      "#Working directory\n",
      "os.chdir('/Users/duccioa/CLOUD/C07_UCL_SmartCities/QuantitativeMethods/qm_coursewrk1')"
     ],
     "language": "python",
     "metadata": {},
     "outputs": [],
     "prompt_number": 2
    },
    {
     "cell_type": "heading",
     "level": 2,
     "metadata": {},
     "source": [
      "Introduction"
     ]
    },
    {
     "cell_type": "markdown",
     "metadata": {},
     "source": [
      "In this project, I investigate the determinants of food imports in countries based on the dataset Data_for_Coursework_1_Countries.csv, provided within the context of the course Quantitative Methods at UCL.\n",
      "A first glance at the data reveals an interesting sublinear power law relation between GDP and food imports. Countries with bigger economies import more food then countries with a smaller output but the increase is less important the more the GDP grows. At a second glance, the same relation holds if we take into account population but with an effect of economy of scale due to the population: richer countries (higher GDP per capita) import more than poorer ones but spend a smaller fraction of their income in food, bigger countries import less food per capita than smaller ones."
     ]
    },
    {
     "cell_type": "heading",
     "level": 2,
     "metadata": {},
     "source": [
      "Analysis"
     ]
    },
    {
     "cell_type": "code",
     "collapsed": false,
     "input": [
      "countries = pd.read_csv('countries.csv', sep = ',', encoding = 'latin1')\n",
      "countries.columns = ['X', 'Year', 'CountryCode', 'CountryName', \n",
      "                     'Population', 'GDP', 'FoodImports', 'FuelImports']\n"
     ],
     "language": "python",
     "metadata": {},
     "outputs": [],
     "prompt_number": 3
    },
    {
     "cell_type": "markdown",
     "metadata": {},
     "source": [
      "In this project I aim at investigating the determinant of food import based on the available dataset, which contains data for 190 countries about Gross Domestic Product (GDP), population, food and fuel imports for the year 2005."
     ]
    },
    {
     "cell_type": "code",
     "collapsed": false,
     "input": [
      "countries[:3]"
     ],
     "language": "python",
     "metadata": {},
     "outputs": [
      {
       "html": [
        "<div style=\"max-width:1500px;overflow:auto;\">\n",
        "<table border=\"1\" class=\"dataframe\">\n",
        "  <thead>\n",
        "    <tr style=\"text-align: right;\">\n",
        "      <th></th>\n",
        "      <th>X</th>\n",
        "      <th>Year</th>\n",
        "      <th>CountryCode</th>\n",
        "      <th>CountryName</th>\n",
        "      <th>Population</th>\n",
        "      <th>GDP</th>\n",
        "      <th>FoodImports</th>\n",
        "      <th>FuelImports</th>\n",
        "      <th>Population_log</th>\n",
        "      <th>FoodImports_log</th>\n",
        "      <th>GDP_log</th>\n",
        "      <th>GDP_pc</th>\n",
        "      <th>FoodImports_pc</th>\n",
        "      <th>GDP_pc_log</th>\n",
        "      <th>FoodImports_pc_log</th>\n",
        "    </tr>\n",
        "  </thead>\n",
        "  <tbody>\n",
        "    <tr>\n",
        "      <th>0</th>\n",
        "      <td>1</td>\n",
        "      <td>2005</td>\n",
        "      <td>ABW</td>\n",
        "      <td>Aruba</td>\n",
        "      <td>100031</td>\n",
        "      <td>1.160240e+12</td>\n",
        "      <td>97166150</td>\n",
        "      <td>32335285</td>\n",
        "      <td>11.513235</td>\n",
        "      <td>18.391933</td>\n",
        "      <td>27.779648</td>\n",
        "      <td>11598804.370645</td>\n",
        "      <td>971.360378</td>\n",
        "      <td>16.266413</td>\n",
        "      <td>6.878698</td>\n",
        "    </tr>\n",
        "    <tr>\n",
        "      <th>1</th>\n",
        "      <td>2</td>\n",
        "      <td>2005</td>\n",
        "      <td>AFG</td>\n",
        "      <td>Afghanistan</td>\n",
        "      <td>24860855</td>\n",
        "      <td>6.275076e+09</td>\n",
        "      <td>528341972</td>\n",
        "      <td>461521897</td>\n",
        "      <td>17.028805</td>\n",
        "      <td>20.085254</td>\n",
        "      <td>22.559851</td>\n",
        "      <td>252.407892</td>\n",
        "      <td>21.251963</td>\n",
        "      <td>5.531046</td>\n",
        "      <td>3.056449</td>\n",
        "    </tr>\n",
        "    <tr>\n",
        "      <th>2</th>\n",
        "      <td>3</td>\n",
        "      <td>2005</td>\n",
        "      <td>AGO</td>\n",
        "      <td>Angola</td>\n",
        "      <td>16544376</td>\n",
        "      <td>2.823370e+10</td>\n",
        "      <td>1075607744</td>\n",
        "      <td>48218538</td>\n",
        "      <td>16.621557</td>\n",
        "      <td>20.796152</td>\n",
        "      <td>24.063782</td>\n",
        "      <td>1706.543616</td>\n",
        "      <td>65.013497</td>\n",
        "      <td>7.442225</td>\n",
        "      <td>4.174595</td>\n",
        "    </tr>\n",
        "  </tbody>\n",
        "</table>\n",
        "</div>"
       ],
       "metadata": {},
       "output_type": "pyout",
       "prompt_number": 6,
       "text": [
        "   X  Year CountryCode  CountryName  Population           GDP  FoodImports  \\\n",
        "0  1  2005         ABW        Aruba      100031  1.160240e+12     97166150   \n",
        "1  2  2005         AFG  Afghanistan    24860855  6.275076e+09    528341972   \n",
        "2  3  2005         AGO       Angola    16544376  2.823370e+10   1075607744   \n",
        "\n",
        "   FuelImports  Population_log  FoodImports_log    GDP_log           GDP_pc  \\\n",
        "0     32335285       11.513235        18.391933  27.779648  11598804.370645   \n",
        "1    461521897       17.028805        20.085254  22.559851       252.407892   \n",
        "2     48218538       16.621557        20.796152  24.063782      1706.543616   \n",
        "\n",
        "   FoodImports_pc  GDP_pc_log  FoodImports_pc_log  \n",
        "0      971.360378   16.266413            6.878698  \n",
        "1       21.251963    5.531046            3.056449  \n",
        "2       65.013497    7.442225            4.174595  "
       ]
      }
     ],
     "prompt_number": 6
    },
    {
     "cell_type": "code",
     "collapsed": false,
     "input": [
      "countries['Population_log'] = log(countries['Population'])\n",
      "countries['FoodImports_log'] = log(countries['FoodImports'])\n",
      "countries['GDP_log'] = log(countries['GDP'])\n",
      "countries['GDP_pc'] = countries['GDP']/countries['Population']\n",
      "countries['FoodImports_pc'] = countries['FoodImports']/countries['Population']\n",
      "countries['GDP_pc_log'] = log(countries['GDP_pc'])\n",
      "countries['FoodImports_pc_log'] = log(countries['FoodImports_pc'])"
     ],
     "language": "python",
     "metadata": {},
     "outputs": [],
     "prompt_number": 7
    },
    {
     "cell_type": "markdown",
     "metadata": {},
     "source": [
      "Both plots present patterns of correlation with three big outliers: USA, India and China which have respectively very high GDP, population, GDP and population. GDP have a very strong correlation (0.92) with food import and the ln-ln plot strongly suggests a power law relation with values very concentrated on the regression line (the ln-ln plot with population shows higher variation than with GDP). \n"
     ]
    },
    {
     "cell_type": "code",
     "collapsed": false,
     "input": [
      "coords = countries[countries['CountryCode'] == 'CHN']\n",
      "coords = coords.append(countries[countries['CountryCode'] == 'IND'])\n",
      "coords = coords.append(countries[countries['CountryCode'] == 'USA'])"
     ],
     "language": "python",
     "metadata": {},
     "outputs": [],
     "prompt_number": 8
    },
    {
     "cell_type": "code",
     "collapsed": false,
     "input": [
      "#POPULATION AND FOOD IMPORT : analysis and plot\n",
      "gs = GridSpec(100,100,bottom=0.18,left=0.18,right=0.88)\n",
      "fig1, ax1 = plt.subplots()\n",
      "ax1 = fig1.add_subplot(gs[:,0:43])\n",
      "ax2 = fig1.add_subplot(gs[:,50:99])\n",
      "\n",
      "ax1.scatter(countries['Population'], countries['FoodImports'])\n",
      "ax1.annotate(coords['CountryCode'][179], \n",
      "            xy = (coords['Population'][179], coords['FoodImports'][179]))\n",
      "ax1.annotate(coords['CountryCode'][34], \n",
      "            xy = (coords['Population'][34], coords['FoodImports'][34]))\n",
      "ax1.annotate(coords['CountryCode'][82], \n",
      "            xy = (coords['Population'][82], coords['FoodImports'][82]))\n",
      "ax1.annotate('Correlation: ' + \n",
      "            str(round(countries['Population'].corr(countries['FoodImports'], method='spearman'), 2)), \n",
      "            xy = (coords['Population'][179]*1.3, coords['FoodImports'][179]*0.6))\n",
      "\n",
      "#Log plot\n",
      "#fig2, ax2 = plt.subplots()\n",
      "ax2.scatter(countries['Population_log'], countries['FoodImports_log'])\n",
      "plt.title('Population and Food Imports: Scatter and Ln-ln plot')\n",
      "\n",
      "#Regression line\n",
      "mod_pop = ols(formula='FoodImports_log ~ Population_log', data=countries)\n",
      "res_pop = mod_pop.fit()\n",
      "par_pop = res_pop.params\n",
      "ax2.plot(countries['Population_log'], par_pop[0] + \n",
      "        par_pop[1]*countries['Population_log'], color = 'red')"
     ],
     "language": "python",
     "metadata": {},
     "outputs": [
      {
       "metadata": {},
       "output_type": "pyout",
       "prompt_number": 61,
       "text": [
        "[<matplotlib.lines.Line2D at 0x1146b8fd0>]"
       ]
      },
      {
       "metadata": {},
       "output_type": "display_data",
       "png": "[encoded data removed]",
       "text": [
        "<matplotlib.figure.Figure at 0x1125ae510>"
       ]
      }
     ],
     "prompt_number": 61
    },
    {
     "cell_type": "code",
     "collapsed": false,
     "input": [
      "##GDP AND FOOD IMPORT : analysis and plot\n",
      "#Plot\n",
      "gs = GridSpec(100,100,bottom=0.18,left=0.18,right=0.88)\n",
      "fig1, ax1 = plt.subplots()\n",
      "ax3 = fig1.add_subplot(gs[:,0:43])\n",
      "ax4 = fig1.add_subplot(gs[:,50:99])\n",
      "\n",
      "\n",
      "ax3.scatter(countries['GDP'], countries['FoodImports'])\n",
      "ax3.annotate(coords['CountryCode'][179], \n",
      "            xy = (coords['GDP'][179], coords['FoodImports'][179]))\n",
      "ax3.annotate(coords['CountryCode'][34], \n",
      "            xy = (coords['GDP'][34], coords['FoodImports'][34]))\n",
      "ax3.annotate(coords['CountryCode'][82], \n",
      "            xy = (coords['GDP'][82], coords['FoodImports'][82]))\n",
      "ax3.annotate('Correlation: ' + \n",
      "            str(round(countries['GDP'].corr(countries['FoodImports'], \n",
      "                                            method='spearman'), 2)), \n",
      "            xy = (coords['GDP'][179]*0.6, coords['FoodImports'][179]*0.6))\n",
      "plt.title('GDP and Food Imports')\n",
      "#Log plot\n",
      "ax4.scatter(countries['GDP_log'], countries['FoodImports_log'])\n",
      "plt.title('GDP and Food Imports: Scatter and Ln-ln plot')\n",
      "#Regression line\n",
      "mod_gdp = ols(formula='FoodImports_log ~ GDP_log', data=countries)\n",
      "res_gdp = mod_gdp.fit()\n",
      "par_gdp = res_gdp.params\n",
      "ax4.plot(countries['GDP_log'], par_gdp[0] + \n",
      "        par_gdp[1]*countries['GDP_log'], color = 'red')\n",
      "ax4.annotate('Intercept a =  ' + str(round(par_gdp[0], 2)), \n",
      "            xy = (coords['GDP_log'][179]*0.9, coords['FoodImports_log'][179]*0.7))\n",
      "ax4.annotate('Slope beta = '  + str(round(par_gdp[1], 2)), \n",
      "            xy = (coords['GDP_log'][179]*0.9, coords['FoodImports_log'][179]*0.68))\n"
     ],
     "language": "python",
     "metadata": {},
     "outputs": [
      {
       "metadata": {},
       "output_type": "pyout",
       "prompt_number": 63,
       "text": [
        "<matplotlib.text.Annotation at 0x1141268d0>"
       ]
      },
      {
       "metadata": {},
       "output_type": "display_data",
       "png": "[encoded data removed]",
       "text": [
        "<matplotlib.figure.Figure at 0x112ef92d0>"
       ]
      }
     ],
     "prompt_number": 63
    },
    {
     "cell_type": "markdown",
     "metadata": {},
     "source": [
      "Based on the graphs above the relation between the outcome Food Imports (Y) and the predictor GDP (X) is  as following:    \n",
      "\n",
      "\\begin{equation}\n",
      "Y = aX^{\\beta}    \n",
      "\\end{equation}\n"
     ]
    },
    {
     "cell_type": "code",
     "collapsed": false,
     "input": [
      "df_gdp = pd.DataFrame()\n",
      "df_gdp['Coef'] = res_gdp.params\n",
      "df_gdp['P-values'] = res_gdp.pvalues\n",
      "print 'R-squared: ' + str(round(res_gdp.rsquared, 2))\n",
      "df_gdp\n",
      "\n",
      "#print res_gdp.summary()"
     ],
     "language": "python",
     "metadata": {},
     "outputs": [
      {
       "output_type": "stream",
       "stream": "stdout",
       "text": [
        "R-squared: 0.84\n"
       ]
      },
      {
       "html": [
        "<div style=\"max-width:1500px;overflow:auto;\">\n",
        "<table border=\"1\" class=\"dataframe\">\n",
        "  <thead>\n",
        "    <tr style=\"text-align: right;\">\n",
        "      <th></th>\n",
        "      <th>Coef</th>\n",
        "      <th>P-values</th>\n",
        "    </tr>\n",
        "  </thead>\n",
        "  <tbody>\n",
        "    <tr>\n",
        "      <th>Intercept</th>\n",
        "      <td>3.859762</td>\n",
        "      <td>3.058295e-12</td>\n",
        "    </tr>\n",
        "    <tr>\n",
        "      <th>GDP_log</th>\n",
        "      <td>0.691211</td>\n",
        "      <td>3.268875e-77</td>\n",
        "    </tr>\n",
        "  </tbody>\n",
        "</table>\n",
        "</div>"
       ],
       "metadata": {},
       "output_type": "pyout",
       "prompt_number": 66,
       "text": [
        "               Coef      P-values\n",
        "Intercept  3.859762  3.058295e-12\n",
        "GDP_log    0.691211  3.268875e-77"
       ]
      }
     ],
     "prompt_number": 66
    },
    {
     "cell_type": "markdown",
     "metadata": {},
     "source": [
      "With a = 3.86 and $\\alpha$ = 0.69, the model explains almost 85% of the variation in food import (R-squared  = 0.84), which is a good fit. Being the slope less than 1, the relation is sublinear and the impact of GDP on food import declines with the increase of GDP. However, we would expect both GDP and food imports to be strongly increasing in the population. Therefore, it is worth to check that this strong correlation is not driven by their dependence on population. To do so I run the following regression:\n",
      "\n",
      "$$ln(y) = {\\alpha_1} + {\\alpha_2}ln(x) + {\\alpha_3}ln(L)$$\n",
      "\n",
      "With $y = \\frac{Y}{L}$ (food import per capita) and $x = \\frac{X}{L}$ (GDP per capita).  \n",
      "It is worth to note that this formulation encompasses the one above (for ${\\alpha_2} = 1-{\\alpha_3} = {\\beta}$ it is identical, see appendix for details).\n",
      "\n"
     ]
    },
    {
     "cell_type": "code",
     "collapsed": false,
     "input": [
      "mod = ols(formula='FoodImports_pc_log ~ GDP_pc_log + Population_log', data=countries)\n",
      "res = mod.fit()\n",
      "df = pd.DataFrame()\n",
      "df['Coef'] = res.params\n",
      "df['P-values'] = res.pvalues\n",
      "print 'R-squared: ' + str(round(res.rsquared, 2))\n",
      "df"
     ],
     "language": "python",
     "metadata": {},
     "outputs": [
      {
       "output_type": "stream",
       "stream": "stdout",
       "text": [
        "R-squared: 0.81\n"
       ]
      },
      {
       "html": [
        "<div style=\"max-width:1500px;overflow:auto;\">\n",
        "<table border=\"1\" class=\"dataframe\">\n",
        "  <thead>\n",
        "    <tr style=\"text-align: right;\">\n",
        "      <th></th>\n",
        "      <th>Coef</th>\n",
        "      <th>P-values</th>\n",
        "    </tr>\n",
        "  </thead>\n",
        "  <tbody>\n",
        "    <tr>\n",
        "      <th>Intercept</th>\n",
        "      <td>3.860655</td>\n",
        "      <td>3.237017e-12</td>\n",
        "    </tr>\n",
        "    <tr>\n",
        "      <th>GDP_pc_log</th>\n",
        "      <td>0.674037</td>\n",
        "      <td>6.845421e-52</td>\n",
        "    </tr>\n",
        "    <tr>\n",
        "      <th>Population_log</th>\n",
        "      <td>-0.299762</td>\n",
        "      <td>5.349538e-25</td>\n",
        "    </tr>\n",
        "  </tbody>\n",
        "</table>\n",
        "</div>"
       ],
       "metadata": {},
       "output_type": "pyout",
       "prompt_number": 69,
       "text": [
        "                    Coef      P-values\n",
        "Intercept       3.860655  3.237017e-12\n",
        "GDP_pc_log      0.674037  6.845421e-52\n",
        "Population_log -0.299762  5.349538e-25"
       ]
      }
     ],
     "prompt_number": 69
    },
    {
     "cell_type": "markdown",
     "metadata": {},
     "source": [
      "This gives us the following equation:    \n",
      "   \n",
      "$$y=ax^{\\alpha_2}L^{\\alpha_3}$$\n",
      "\n",
      "With $y = \\frac{Y}{L}$  (food import per capita) and $x = \\frac{X}{L}$  (GDP per capita), a = 47.49, $\\alpha_2 = 0.67$ and $\\alpha_3 = 0.3$.   \n",
      "The model has an R-squared = 0.807 and the coefficients are all statistically significant. "
     ]
    },
    {
     "cell_type": "markdown",
     "metadata": {},
     "source": [
      "The equation above suggests that, holding population constant, the food import per capita increases in a sublinear fashion with the GDP per capita and the increase is less and less pronounced for more productive countries (higher GDP per capita). On the other hand, holding GDP per capita constant, countries with more population import less food per person. The first relation is probably explained by the fact that as people become richer, they consume more food but spend a smaller fraction of their income in buying it. The other relation could be explained as an economy of scale, where increase in population make food allocation more efficient and reduces the relative need of importing food.   \n",
      "The model explains $\\sim$80% of the variation and other factors would be worth investigating. To name a few, I would think food trade balance, levels of productivity and employment in agriculture would be a good start to improve the comprehension of the dynamics behind food imports."
     ]
    },
    {
     "cell_type": "heading",
     "level": 2,
     "metadata": {},
     "source": [
      "Appendix"
     ]
    },
    {
     "cell_type": "heading",
     "level": 3,
     "metadata": {},
     "source": [
      "Identity of the power law"
     ]
    },
    {
     "cell_type": "markdown",
     "metadata": {},
     "source": [
      "The power law suggested by the graph is \n",
      "\\begin{equation}\n",
      "\\left[\n",
      "Y = aX^{\\beta}    \n",
      "\\right]\n",
      "\\end{equation}\n",
      "\n",
      "Dividing by the population L, we can write:\n",
      "\n",
      "$$\\frac{Y}{L} = \\frac{aX^{\\beta}}{L} = \\frac{aX^{\\beta}}{L^{\\beta}L^{1-\\beta}} = a(\\frac{X}{L})^{\\beta}L^{1-{\\beta}}$$\n",
      "\n",
      "\n",
      "If I write $y = \\frac{Y}{L}$ as the Food Imports per capita and $x = \\frac{X}{L}$ as the GDP per capita, I can say that the first equation is equivalent to saying:\n",
      "\\begin{equation}\n",
      "\\left[\n",
      "y = ax^{\\beta}L^{1-\\beta}\n",
      "\\right]\n",
      "\\end{equation}\n"
     ]
    }
   ],
   "metadata": {}
  }
 ]
}